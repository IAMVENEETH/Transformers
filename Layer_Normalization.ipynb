{
  "nbformat": 4,
  "nbformat_minor": 0,
  "metadata": {
    "colab": {
      "provenance": []
    },
    "kernelspec": {
      "name": "python3",
      "display_name": "Python 3"
    },
    "language_info": {
      "name": "python"
    }
  },
  "cells": [
    {
      "cell_type": "code",
      "execution_count": 4,
      "metadata": {
        "id": "Q0fABlJTiKEX"
      },
      "outputs": [],
      "source": [
        "import torch\n",
        "import torch.nn as nn\n",
        "import torch.nn.functional as F"
      ]
    },
    {
      "cell_type": "code",
      "source": [
        "batch_size = 3\n",
        "sentence_length = 5\n",
        "embedding_dim = 8\n",
        "\n",
        "input = torch.randn(sentence_length, batch_size, embedding_dim)"
      ],
      "metadata": {
        "id": "TVwbIaGRiiZO"
      },
      "execution_count": 34,
      "outputs": []
    },
    {
      "cell_type": "code",
      "source": [
        "input.shape"
      ],
      "metadata": {
        "colab": {
          "base_uri": "https://localhost:8080/"
        },
        "id": "It1rrMwfjUh7",
        "outputId": "4dfe6453-f4ca-4e66-c445-ca2ab1903d1a"
      },
      "execution_count": 35,
      "outputs": [
        {
          "output_type": "execute_result",
          "data": {
            "text/plain": [
              "torch.Size([5, 3, 8])"
            ]
          },
          "metadata": {},
          "execution_count": 35
        }
      ]
    },
    {
      "cell_type": "code",
      "source": [
        "parameter_shape = input.size()[-2:]\n",
        "gamma = nn.Parameter(torch.ones(parameter_shape))\n",
        "beta = nn.Parameter(torch.zeros(parameter_shape))"
      ],
      "metadata": {
        "id": "ufJVM3feizLi"
      },
      "execution_count": 36,
      "outputs": []
    },
    {
      "cell_type": "code",
      "source": [
        "gamma.shape,beta.shape"
      ],
      "metadata": {
        "colab": {
          "base_uri": "https://localhost:8080/"
        },
        "id": "fFeuFdrdjSnv",
        "outputId": "0a51ca75-c1c2-4065-d227-95799954f9a9"
      },
      "execution_count": 37,
      "outputs": [
        {
          "output_type": "execute_result",
          "data": {
            "text/plain": [
              "(torch.Size([3, 8]), torch.Size([3, 8]))"
            ]
          },
          "metadata": {},
          "execution_count": 37
        }
      ]
    },
    {
      "cell_type": "code",
      "source": [
        "dims = [-(i+1) for i in range(len(parameter_shape))]"
      ],
      "metadata": {
        "id": "wuqXt6pyjZLp"
      },
      "execution_count": 38,
      "outputs": []
    },
    {
      "cell_type": "code",
      "source": [
        "dims"
      ],
      "metadata": {
        "colab": {
          "base_uri": "https://localhost:8080/"
        },
        "id": "pdnxh0W7j2ZP",
        "outputId": "94d02cd3-9ff3-44b0-8ab4-66becb5b9f20"
      },
      "execution_count": 39,
      "outputs": [
        {
          "output_type": "execute_result",
          "data": {
            "text/plain": [
              "[-1, -2]"
            ]
          },
          "metadata": {},
          "execution_count": 39
        }
      ]
    },
    {
      "cell_type": "code",
      "source": [
        "mean = input.mean(dim=dims, keepdim=True)\n",
        "ep=1e-5\n",
        "var=((input-mean)**2).mean(dim=dims, keepdim=True)\n",
        "std_ = (var+ep).sqrt()"
      ],
      "metadata": {
        "id": "lC1UN50mj5xx"
      },
      "execution_count": 40,
      "outputs": []
    },
    {
      "cell_type": "code",
      "source": [
        "y = (input-mean)/std_"
      ],
      "metadata": {
        "id": "4q4V6Fc4kXKv"
      },
      "execution_count": 41,
      "outputs": []
    },
    {
      "cell_type": "code",
      "source": [
        "out = gamma * y + beta"
      ],
      "metadata": {
        "id": "LqOKhxbikar2"
      },
      "execution_count": 42,
      "outputs": []
    },
    {
      "cell_type": "code",
      "source": [
        "out"
      ],
      "metadata": {
        "colab": {
          "base_uri": "https://localhost:8080/"
        },
        "id": "hQB06xxkkoIo",
        "outputId": "f217fc68-2fc8-4f9e-f6cd-7f29a047c1f5"
      },
      "execution_count": 44,
      "outputs": [
        {
          "output_type": "execute_result",
          "data": {
            "text/plain": [
              "tensor([[[-1.5436, -1.3997,  0.3859,  1.9735, -0.0307, -0.1906,  0.0588,\n",
              "           0.6818],\n",
              "         [ 1.1185, -2.1172,  0.5018,  0.7373,  0.9415, -0.7529,  2.0503,\n",
              "           0.1493],\n",
              "         [ 0.1628, -0.4285, -0.7802, -1.2684, -0.1303,  0.5066, -0.3534,\n",
              "          -0.2726]],\n",
              "\n",
              "        [[-1.3187, -1.0120, -0.4560, -0.9762,  0.3420, -0.5358,  0.7027,\n",
              "          -0.4035],\n",
              "         [ 0.6631,  2.1722, -0.8105, -0.6327,  0.7893,  1.6931,  0.2048,\n",
              "           0.6953],\n",
              "         [ 0.8841, -0.0144,  1.6103, -1.3055,  0.4921, -0.2743, -0.9092,\n",
              "          -1.6003]],\n",
              "\n",
              "        [[ 0.3144, -2.0989, -0.7043, -0.9904,  0.1581, -0.1326, -1.0078,\n",
              "           0.7249],\n",
              "         [ 1.3848,  0.3722,  0.6135,  0.9662, -1.6346,  1.1613, -1.0922,\n",
              "           0.1631],\n",
              "         [ 2.2110, -0.6996,  0.3279,  0.6480,  0.6212, -0.7907, -0.8819,\n",
              "           0.3665]],\n",
              "\n",
              "        [[ 0.8395, -0.3574,  0.6132, -1.0564,  0.6159,  0.5483,  1.2999,\n",
              "          -0.9844],\n",
              "         [ 0.6581,  0.2312,  0.3616, -0.5800, -1.6671, -1.3302,  0.0260,\n",
              "          -0.4349],\n",
              "         [-1.3704,  1.0750,  0.2538,  0.5237,  2.5541, -0.7723,  0.3720,\n",
              "          -1.4191]],\n",
              "\n",
              "        [[ 0.5512, -0.9784, -0.5845,  0.1221, -0.8605, -0.3882, -0.5347,\n",
              "           1.9260],\n",
              "         [-0.6656,  0.4129, -0.8403,  1.8145,  0.0748, -0.6428, -0.3784,\n",
              "           1.7957],\n",
              "         [ 1.0123,  0.2162, -1.0114,  1.3630, -0.0053, -1.7623,  0.6402,\n",
              "          -1.2764]]], grad_fn=<AddBackward0>)"
            ]
          },
          "metadata": {},
          "execution_count": 44
        }
      ]
    }
  ]
}