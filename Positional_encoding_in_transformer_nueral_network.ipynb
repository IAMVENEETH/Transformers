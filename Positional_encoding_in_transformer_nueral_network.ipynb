{
  "nbformat": 4,
  "nbformat_minor": 0,
  "metadata": {
    "colab": {
      "provenance": []
    },
    "kernelspec": {
      "name": "python3",
      "display_name": "Python 3"
    },
    "language_info": {
      "name": "python"
    }
  },
  "cells": [
    {
      "cell_type": "code",
      "execution_count": 12,
      "metadata": {
        "id": "8nxLkXj1Eji_"
      },
      "outputs": [],
      "source": [
        "import torch"
      ]
    },
    {
      "cell_type": "code",
      "source": [
        "d_model = 6\n",
        "sequence_length = 10"
      ],
      "metadata": {
        "id": "YP8nuBLEE6i1"
      },
      "execution_count": 2,
      "outputs": []
    },
    {
      "cell_type": "markdown",
      "source": [
        "#positional encoding"
      ],
      "metadata": {
        "id": "jk1LYDkeFEQB"
      }
    },
    {
      "cell_type": "code",
      "source": [
        "even_i = torch.arange(0, d_model, 2).float()\n",
        "even_i"
      ],
      "metadata": {
        "colab": {
          "base_uri": "https://localhost:8080/"
        },
        "id": "PSU-PjslFHwA",
        "outputId": "75a5a789-c3d4-48cf-f90b-b8d170fc6f02"
      },
      "execution_count": 3,
      "outputs": [
        {
          "output_type": "execute_result",
          "data": {
            "text/plain": [
              "tensor([0., 2., 4.])"
            ]
          },
          "metadata": {},
          "execution_count": 3
        }
      ]
    },
    {
      "cell_type": "code",
      "source": [
        "odd_i = torch.arange(1, d_model, 2).float()\n",
        "odd_i"
      ],
      "metadata": {
        "colab": {
          "base_uri": "https://localhost:8080/"
        },
        "id": "K6z8cbZiFHs5",
        "outputId": "66592d2a-4399-4746-8d3b-f8326e65aff4"
      },
      "execution_count": 4,
      "outputs": [
        {
          "output_type": "execute_result",
          "data": {
            "text/plain": [
              "tensor([1., 3., 5.])"
            ]
          },
          "metadata": {},
          "execution_count": 4
        }
      ]
    },
    {
      "cell_type": "code",
      "source": [
        "even_denomenater = torch.pow(10000, even_i / d_model)\n",
        "even_denomenater"
      ],
      "metadata": {
        "colab": {
          "base_uri": "https://localhost:8080/"
        },
        "id": "5fW1UEVgFVJ2",
        "outputId": "4452acb3-debd-4dbe-a787-aae3cd0f1985"
      },
      "execution_count": 5,
      "outputs": [
        {
          "output_type": "execute_result",
          "data": {
            "text/plain": [
              "tensor([  1.0000,  21.5443, 464.1590])"
            ]
          },
          "metadata": {},
          "execution_count": 5
        }
      ]
    },
    {
      "cell_type": "code",
      "source": [
        "odd_denomenater = torch.pow(10000, odd_i / d_model)\n",
        "odd_denomenater"
      ],
      "metadata": {
        "colab": {
          "base_uri": "https://localhost:8080/"
        },
        "id": "0mXPlcFTFvc1",
        "outputId": "5a1f5256-faf2-4f03-ba9c-83fd301e804e"
      },
      "execution_count": 6,
      "outputs": [
        {
          "output_type": "execute_result",
          "data": {
            "text/plain": [
              "tensor([   4.6416,  100.0000, 2154.4343])"
            ]
          },
          "metadata": {},
          "execution_count": 6
        }
      ]
    },
    {
      "cell_type": "code",
      "source": [
        "positions = torch.arange(sequence_length, dtype=torch.float).reshape(sequence_length, 1)\n",
        "positions"
      ],
      "metadata": {
        "colab": {
          "base_uri": "https://localhost:8080/"
        },
        "id": "XMc-pP7UFyLe",
        "outputId": "0c5ef62e-89c2-45af-f968-feaceac75a7e"
      },
      "execution_count": 7,
      "outputs": [
        {
          "output_type": "execute_result",
          "data": {
            "text/plain": [
              "tensor([[0.],\n",
              "        [1.],\n",
              "        [2.],\n",
              "        [3.],\n",
              "        [4.],\n",
              "        [5.],\n",
              "        [6.],\n",
              "        [7.],\n",
              "        [8.],\n",
              "        [9.]])"
            ]
          },
          "metadata": {},
          "execution_count": 7
        }
      ]
    },
    {
      "cell_type": "code",
      "source": [
        "even_pe = torch.sin(positions / even_denomenater)\n",
        "even_pe"
      ],
      "metadata": {
        "colab": {
          "base_uri": "https://localhost:8080/"
        },
        "id": "9cd7u-h_F5j2",
        "outputId": "1420a425-2d1d-4ed4-9eba-3cec81126ee3"
      },
      "execution_count": 8,
      "outputs": [
        {
          "output_type": "execute_result",
          "data": {
            "text/plain": [
              "tensor([[ 0.0000,  0.0000,  0.0000],\n",
              "        [ 0.8415,  0.0464,  0.0022],\n",
              "        [ 0.9093,  0.0927,  0.0043],\n",
              "        [ 0.1411,  0.1388,  0.0065],\n",
              "        [-0.7568,  0.1846,  0.0086],\n",
              "        [-0.9589,  0.2300,  0.0108],\n",
              "        [-0.2794,  0.2749,  0.0129],\n",
              "        [ 0.6570,  0.3192,  0.0151],\n",
              "        [ 0.9894,  0.3629,  0.0172],\n",
              "        [ 0.4121,  0.4057,  0.0194]])"
            ]
          },
          "metadata": {},
          "execution_count": 8
        }
      ]
    },
    {
      "cell_type": "code",
      "source": [
        "odd_pe = torch.cos(positions / odd_denomenater)\n",
        "odd_pe"
      ],
      "metadata": {
        "colab": {
          "base_uri": "https://localhost:8080/"
        },
        "id": "2ooXr1IMGBbm",
        "outputId": "fce24a01-15c3-4eaa-8f30-08f59340e948"
      },
      "execution_count": 9,
      "outputs": [
        {
          "output_type": "execute_result",
          "data": {
            "text/plain": [
              "tensor([[ 1.0000,  1.0000,  1.0000],\n",
              "        [ 0.9769,  0.9999,  1.0000],\n",
              "        [ 0.9086,  0.9998,  1.0000],\n",
              "        [ 0.7983,  0.9996,  1.0000],\n",
              "        [ 0.6511,  0.9992,  1.0000],\n",
              "        [ 0.4738,  0.9988,  1.0000],\n",
              "        [ 0.2746,  0.9982,  1.0000],\n",
              "        [ 0.0627,  0.9976,  1.0000],\n",
              "        [-0.1522,  0.9968,  1.0000],\n",
              "        [-0.3599,  0.9960,  1.0000]])"
            ]
          },
          "metadata": {},
          "execution_count": 9
        }
      ]
    },
    {
      "cell_type": "code",
      "source": [
        "PE = torch.stack([even_pe, odd_pe], dim=2)\n",
        "PE"
      ],
      "metadata": {
        "colab": {
          "base_uri": "https://localhost:8080/"
        },
        "id": "ygM9WKiHGEs7",
        "outputId": "7c5e22a0-f3fc-4af8-815a-dc4f7da25e9a"
      },
      "execution_count": 10,
      "outputs": [
        {
          "output_type": "execute_result",
          "data": {
            "text/plain": [
              "tensor([[[ 0.0000,  1.0000],\n",
              "         [ 0.0000,  1.0000],\n",
              "         [ 0.0000,  1.0000]],\n",
              "\n",
              "        [[ 0.8415,  0.9769],\n",
              "         [ 0.0464,  0.9999],\n",
              "         [ 0.0022,  1.0000]],\n",
              "\n",
              "        [[ 0.9093,  0.9086],\n",
              "         [ 0.0927,  0.9998],\n",
              "         [ 0.0043,  1.0000]],\n",
              "\n",
              "        [[ 0.1411,  0.7983],\n",
              "         [ 0.1388,  0.9996],\n",
              "         [ 0.0065,  1.0000]],\n",
              "\n",
              "        [[-0.7568,  0.6511],\n",
              "         [ 0.1846,  0.9992],\n",
              "         [ 0.0086,  1.0000]],\n",
              "\n",
              "        [[-0.9589,  0.4738],\n",
              "         [ 0.2300,  0.9988],\n",
              "         [ 0.0108,  1.0000]],\n",
              "\n",
              "        [[-0.2794,  0.2746],\n",
              "         [ 0.2749,  0.9982],\n",
              "         [ 0.0129,  1.0000]],\n",
              "\n",
              "        [[ 0.6570,  0.0627],\n",
              "         [ 0.3192,  0.9976],\n",
              "         [ 0.0151,  1.0000]],\n",
              "\n",
              "        [[ 0.9894, -0.1522],\n",
              "         [ 0.3629,  0.9968],\n",
              "         [ 0.0172,  1.0000]],\n",
              "\n",
              "        [[ 0.4121, -0.3599],\n",
              "         [ 0.4057,  0.9960],\n",
              "         [ 0.0194,  1.0000]]])"
            ]
          },
          "metadata": {},
          "execution_count": 10
        }
      ]
    },
    {
      "cell_type": "code",
      "source": [
        "PE = torch.flatten(PE,start_dim=1,end_dim=-1)\n",
        "PE"
      ],
      "metadata": {
        "colab": {
          "base_uri": "https://localhost:8080/"
        },
        "id": "uYUOqOgDGIHr",
        "outputId": "330456e0-76d6-4420-a2e1-eb4d60d5a0fc"
      },
      "execution_count": 11,
      "outputs": [
        {
          "output_type": "execute_result",
          "data": {
            "text/plain": [
              "tensor([[ 0.0000,  1.0000,  0.0000,  1.0000,  0.0000,  1.0000],\n",
              "        [ 0.8415,  0.9769,  0.0464,  0.9999,  0.0022,  1.0000],\n",
              "        [ 0.9093,  0.9086,  0.0927,  0.9998,  0.0043,  1.0000],\n",
              "        [ 0.1411,  0.7983,  0.1388,  0.9996,  0.0065,  1.0000],\n",
              "        [-0.7568,  0.6511,  0.1846,  0.9992,  0.0086,  1.0000],\n",
              "        [-0.9589,  0.4738,  0.2300,  0.9988,  0.0108,  1.0000],\n",
              "        [-0.2794,  0.2746,  0.2749,  0.9982,  0.0129,  1.0000],\n",
              "        [ 0.6570,  0.0627,  0.3192,  0.9976,  0.0151,  1.0000],\n",
              "        [ 0.9894, -0.1522,  0.3629,  0.9968,  0.0172,  1.0000],\n",
              "        [ 0.4121, -0.3599,  0.4057,  0.9960,  0.0194,  1.0000]])"
            ]
          },
          "metadata": {},
          "execution_count": 11
        }
      ]
    }
  ]
}