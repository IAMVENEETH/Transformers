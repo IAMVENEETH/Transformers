{
  "nbformat": 4,
  "nbformat_minor": 0,
  "metadata": {
    "colab": {
      "provenance": []
    },
    "kernelspec": {
      "name": "python3",
      "display_name": "Python 3"
    },
    "language_info": {
      "name": "python"
    }
  },
  "cells": [
    {
      "cell_type": "code",
      "execution_count": 1,
      "metadata": {
        "colab": {
          "base_uri": "https://localhost:8080/"
        },
        "id": "rBmHELeGvcZ_",
        "outputId": "f3365f28-b332-4fb3-f0e7-c724325822f5"
      },
      "outputs": [
        {
          "output_type": "execute_result",
          "data": {
            "text/plain": [
              "(array([[ 0.88751639,  0.02465853, -0.70810286, -0.24232136, -0.09200776,\n",
              "          0.39901822,  0.17058618, -1.40259255],\n",
              "        [ 0.04550906,  0.30190135, -1.10311813, -1.14134455, -0.12416257,\n",
              "          0.53632591,  1.77300777, -0.06541501],\n",
              "        [ 0.47509194,  0.09621482,  1.0234821 , -1.87393608,  1.28347078,\n",
              "          0.05339085, -0.15562363, -0.30379203],\n",
              "        [-0.50344714, -0.21771695,  0.23085562, -0.05584174, -0.6020663 ,\n",
              "         -0.98262394,  1.29645715,  1.4779346 ]]),\n",
              " array([[ 0.07544902,  1.17633901, -0.00678408, -1.43392322, -0.1084998 ,\n",
              "          0.11969405,  1.21236221, -1.0333617 ],\n",
              "        [ 1.51012538,  1.06699039, -2.55425327,  0.2865979 ,  0.11460259,\n",
              "         -1.99672161, -0.61730254, -0.63015006],\n",
              "        [ 0.63218997, -0.94361824, -1.40679096, -0.57299392,  0.89974453,\n",
              "          1.15469441, -0.05543782,  0.82730717],\n",
              "        [-0.24005509,  1.17120406,  1.05313073,  0.25876268,  0.17402899,\n",
              "         -1.22161928,  0.26885324,  0.94181282]]),\n",
              " array([[ 0.07369492,  0.44120076,  1.07965339, -0.06586887, -1.50646707,\n",
              "         -0.19674951,  0.44863884, -1.11028124],\n",
              "        [ 0.11670591,  0.6499204 , -0.82882211,  0.46731564, -0.48312206,\n",
              "          0.84296832,  0.36473227,  0.88528323],\n",
              "        [ 0.13093508,  0.75880009,  1.92270296,  1.08476203, -1.70740104,\n",
              "         -0.87854806, -0.27994188, -0.49250288],\n",
              "        [ 0.46132475, -0.74298756, -1.5242895 , -0.84897655, -0.21768939,\n",
              "          1.13112802,  0.21775561, -0.02655661]]))"
            ]
          },
          "metadata": {},
          "execution_count": 1
        }
      ],
      "source": [
        "import numpy as np\n",
        "\n",
        "L,d_k,d_v = 4,8,8\n",
        "\n",
        "Q = np.random.randn(L,d_k)\n",
        "K = np.random.randn(L,d_k)\n",
        "V = np.random.randn(L,d_v)\n",
        "\n",
        "Q,K,V\n"
      ]
    },
    {
      "cell_type": "markdown",
      "source": [
        "#SELF ATTENTION"
      ],
      "metadata": {
        "id": "yWdjAWvFvva9"
      }
    },
    {
      "cell_type": "code",
      "source": [
        "def self_attention(Q,K,V,mask):\n",
        "  _n = np.matmul(Q,K.T)\n",
        "  _d = np.sqrt(d_k)\n",
        "  _f = _n/_d\n",
        "  _f_ = _f + mask\n",
        "  _f_ = softmax(_f_)\n",
        "  return np.matmul(_f_,V)\n",
        "\n",
        "def softmax(x):\n",
        "  return np.exp(x)/np.sum(np.exp(x),axis=1,keepdims=True)"
      ],
      "metadata": {
        "id": "Cj9t0HM1v630"
      },
      "execution_count": 11,
      "outputs": []
    },
    {
      "cell_type": "code",
      "source": [
        "mask = np.tril(np.ones((L,L)))\n",
        "mask"
      ],
      "metadata": {
        "colab": {
          "base_uri": "https://localhost:8080/"
        },
        "id": "8iBQ_aI3v609",
        "outputId": "4301350d-df50-4c40-b107-4cc575bce62c"
      },
      "execution_count": 2,
      "outputs": [
        {
          "output_type": "execute_result",
          "data": {
            "text/plain": [
              "array([[1., 0., 0., 0.],\n",
              "       [1., 1., 0., 0.],\n",
              "       [1., 1., 1., 0.],\n",
              "       [1., 1., 1., 1.]])"
            ]
          },
          "metadata": {},
          "execution_count": 2
        }
      ]
    },
    {
      "cell_type": "code",
      "source": [
        "for i in range(L):\n",
        "  for j in range(L):\n",
        "    if mask[i][j] == 0:\n",
        "      mask[i][j] = (-np.infty)\n",
        "    else:\n",
        "      mask[i][j] = 0\n",
        "\n",
        "\"\"\"\n",
        "mask[mask==1] = 0\n",
        "mask[mask==0] = -np.infty\n",
        "\"\"\""
      ],
      "metadata": {
        "id": "rwIz0J6jw_Q4"
      },
      "execution_count": 8,
      "outputs": []
    },
    {
      "cell_type": "code",
      "source": [
        "mask"
      ],
      "metadata": {
        "colab": {
          "base_uri": "https://localhost:8080/"
        },
        "id": "kv7Tw3jvxKZ5",
        "outputId": "c805261c-6728-4e08-c229-b9364a9f602c"
      },
      "execution_count": 9,
      "outputs": [
        {
          "output_type": "execute_result",
          "data": {
            "text/plain": [
              "array([[  0., -inf, -inf, -inf],\n",
              "       [  0.,   0., -inf, -inf],\n",
              "       [  0.,   0.,   0., -inf],\n",
              "       [  0.,   0.,   0.,   0.]])"
            ]
          },
          "metadata": {},
          "execution_count": 9
        }
      ]
    },
    {
      "cell_type": "code",
      "source": [
        "new_v = self_attention(Q,K,V,mask)"
      ],
      "metadata": {
        "id": "ajqjPNndxcSE"
      },
      "execution_count": 12,
      "outputs": []
    },
    {
      "cell_type": "code",
      "source": [
        "new_v,V"
      ],
      "metadata": {
        "colab": {
          "base_uri": "https://localhost:8080/"
        },
        "id": "D5uNisZvxvzV",
        "outputId": "6f3653d2-396e-402e-a4ac-09b814350451"
      },
      "execution_count": 14,
      "outputs": [
        {
          "output_type": "execute_result",
          "data": {
            "text/plain": [
              "(array([[ 0.07369492,  0.44120076,  1.07965339, -0.06586887, -1.50646707,\n",
              "         -0.19674951,  0.44863884, -1.11028124],\n",
              "        [ 0.08322379,  0.48744153,  0.6568404 ,  0.05225543, -1.27975021,\n",
              "          0.03359466,  0.43004977, -0.66817414],\n",
              "        [ 0.09519635,  0.55725499,  1.12052661,  0.33038977, -1.45452838,\n",
              "         -0.28445944,  0.22525499, -0.71206713],\n",
              "        [ 0.30268804, -0.14796947, -0.47665018, -0.27487994, -0.69610233,\n",
              "          0.56899549,  0.20663585, -0.18218493]]),\n",
              " array([[ 0.07369492,  0.44120076,  1.07965339, -0.06586887, -1.50646707,\n",
              "         -0.19674951,  0.44863884, -1.11028124],\n",
              "        [ 0.11670591,  0.6499204 , -0.82882211,  0.46731564, -0.48312206,\n",
              "          0.84296832,  0.36473227,  0.88528323],\n",
              "        [ 0.13093508,  0.75880009,  1.92270296,  1.08476203, -1.70740104,\n",
              "         -0.87854806, -0.27994188, -0.49250288],\n",
              "        [ 0.46132475, -0.74298756, -1.5242895 , -0.84897655, -0.21768939,\n",
              "          1.13112802,  0.21775561, -0.02655661]]))"
            ]
          },
          "metadata": {},
          "execution_count": 14
        }
      ]
    },
    {
      "cell_type": "code",
      "source": [],
      "metadata": {
        "id": "Z5UTvUoyx0SM"
      },
      "execution_count": null,
      "outputs": []
    }
  ]
}